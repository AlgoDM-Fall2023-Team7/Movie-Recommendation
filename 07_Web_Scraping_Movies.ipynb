{
  "cells": [
    {
      "cell_type": "markdown",
      "metadata": {
        "id": "V0-PaRpu1O5g"
      },
      "source": [
        "# ADM Movie Recommender"
      ]
    },
    {
      "cell_type": "markdown",
      "metadata": {
        "id": "qPMhIAXM1O5k"
      },
      "source": [
        "Web Scraping Module"
      ]
    },
    {
      "cell_type": "code",
      "execution_count": 1,
      "metadata": {
        "id": "MliE3ZDN1O5m"
      },
      "outputs": [],
      "source": [
        "#importing required Libraries\n",
        "import pandas as pd   #to create dataframe\n",
        "import requests       #to send the request to the URL\n",
        "from bs4 import BeautifulSoup #to get the content in the form of HTML\n",
        "import numpy as np  # to count the values (in our case)"
      ]
    },
    {
      "cell_type": "code",
      "source": [
        "# Importing required libraries\n",
        "import requests\n",
        "from bs4 import BeautifulSoup\n",
        "import pandas as pd\n",
        "\n",
        "# Assigning the URL to variable 'url'\n",
        "url = 'https://www.imdb.com/search/title/?count=100&groups=top_1000&sort=user_rating'\n",
        "\n",
        "# Sending HTTP request and getting the content of the page\n",
        "response = requests.get(url)\n",
        "soup = BeautifulSoup(response.content, 'html.parser')\n",
        "\n",
        "# Creating empty lists to store data\n",
        "movie_name = []\n",
        "year = []\n",
        "time = []\n",
        "rating = []\n",
        "metascore = []\n",
        "votes = []\n",
        "gross = []\n",
        "description = []  # Added recently\n",
        "Director = []     # Added recently\n",
        "Stars = []        # Added recently\n",
        "\n",
        "# Extracting meaningful data from the HTML content\n",
        "movie_data = soup.findAll('div', attrs={'class': 'lister-item mode-advanced'})\n",
        "\n",
        "# Looping through each movie data\n",
        "for store in movie_data:\n",
        "    # Extracting and appending movie name\n",
        "    name = store.h3.a.text\n",
        "    movie_name.append(name)\n",
        "\n",
        "    # Extracting and appending year of release\n",
        "    year_of_release = store.h3.find('span', class_='lister-item-year text-muted unbold').text.replace('(', '').replace(')', '')\n",
        "    year.append(year_of_release)\n",
        "\n",
        "    # Extracting and appending runtime\n",
        "    runtime = store.p.find('span', class_='runtime').text.replace(' min', '')\n",
        "    time.append(runtime)\n",
        "\n",
        "    # Extracting and appending movie rating\n",
        "    rate = store.find('div', class_='inline-block ratings-imdb-rating').text.replace('\\n', '')\n",
        "    rating.append(rate)\n",
        "\n",
        "    # Extracting and appending metascore\n",
        "    meta = store.find('span', class_='metascore').text.replace(' ', '') if store.find('span', class_='metascore') else '^^^^^^'\n",
        "    metascore.append(meta)\n",
        "\n",
        "    # Extracting and appending votes and gross collection\n",
        "    value = store.find_all('span', attrs={'name': 'nv'})\n",
        "    vote = value[0].text\n",
        "    votes.append(vote)\n",
        "    grosses = value[1].text if len(value) > 1 else '*****'\n",
        "    gross.append(grosses)\n",
        "\n",
        "    # Extracting and appending movie description\n",
        "    describe = store.find_all('p', class_='text-muted')\n",
        "    description_ = describe[1].text.replace('\\n', '') if len(describe) > 1 else '*****'\n",
        "    description.append(description_)\n",
        "\n",
        "    # Extracting and appending director and stars information\n",
        "    cast = store.find(\"p\", class_='')\n",
        "    cast = cast.text.replace('\\n', '').split('|')\n",
        "    cast = [x.strip() for x in cast]\n",
        "    cast = [cast[i].replace(j, \"\") for i, j in enumerate([\"Director:\", \"Stars:\"])]\n",
        "    Director.append(cast[0])\n",
        "    Stars.append([x.strip() for x in cast[1].split(\",\")])\n",
        "\n",
        "# Creating a DataFrame using pandas\n",
        "movie_DF = pd.DataFrame({'Name of movie': movie_name, 'Year of release': year, 'Watchtime': time, 'Movie Rating': rating,\n",
        "                         'Metascore': metascore, 'Votes': votes, 'Gross collection': gross, 'Description': description,\n",
        "                         \"Director\": Director, 'Star': Stars})"
      ],
      "metadata": {
        "id": "_zKUG2721fU4"
      },
      "execution_count": 2,
      "outputs": []
    },
    {
      "cell_type": "code",
      "execution_count": 5,
      "metadata": {
        "id": "-SFSBIBU1O5n"
      },
      "outputs": [],
      "source": [
        "# Saving data in Excel file:\n",
        "\n",
        "movie_DF.to_excel(\"Movies.xlsx\")"
      ]
    }
  ],
  "metadata": {
    "kernelspec": {
      "display_name": "Python 3",
      "language": "python",
      "name": "python3"
    },
    "language_info": {
      "codemirror_mode": {
        "name": "ipython",
        "version": 3
      },
      "file_extension": ".py",
      "mimetype": "text/x-python",
      "name": "python",
      "nbconvert_exporter": "python",
      "pygments_lexer": "ipython3",
      "version": "3.8.3"
    },
    "colab": {
      "provenance": []
    }
  },
  "nbformat": 4,
  "nbformat_minor": 0
}